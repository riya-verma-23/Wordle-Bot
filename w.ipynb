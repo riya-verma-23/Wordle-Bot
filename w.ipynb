{
 "cells": [
  {
   "cell_type": "code",
   "execution_count": 47,
   "metadata": {},
   "outputs": [
    {
     "data": {
      "text/html": [
       "<div>\n",
       "<style scoped>\n",
       "    .dataframe tbody tr th:only-of-type {\n",
       "        vertical-align: middle;\n",
       "    }\n",
       "\n",
       "    .dataframe tbody tr th {\n",
       "        vertical-align: top;\n",
       "    }\n",
       "\n",
       "    .dataframe thead th {\n",
       "        text-align: right;\n",
       "    }\n",
       "</style>\n",
       "<table border=\"1\" class=\"dataframe\">\n",
       "  <thead>\n",
       "    <tr style=\"text-align: right;\">\n",
       "      <th></th>\n",
       "      <th>words</th>\n",
       "      <th>freq</th>\n",
       "    </tr>\n",
       "  </thead>\n",
       "  <tbody>\n",
       "    <tr>\n",
       "      <th>0</th>\n",
       "      <td>aback</td>\n",
       "      <td>23135851162</td>\n",
       "    </tr>\n",
       "    <tr>\n",
       "      <th>1</th>\n",
       "      <td>abase</td>\n",
       "      <td>13151942776</td>\n",
       "    </tr>\n",
       "    <tr>\n",
       "      <th>2</th>\n",
       "      <td>abate</td>\n",
       "      <td>12997637966</td>\n",
       "    </tr>\n",
       "    <tr>\n",
       "      <th>3</th>\n",
       "      <td>abbey</td>\n",
       "      <td>12136980858</td>\n",
       "    </tr>\n",
       "    <tr>\n",
       "      <th>4</th>\n",
       "      <td>abbot</td>\n",
       "      <td>9081174698</td>\n",
       "    </tr>\n",
       "    <tr>\n",
       "      <th>...</th>\n",
       "      <td>...</td>\n",
       "      <td>...</td>\n",
       "    </tr>\n",
       "    <tr>\n",
       "      <th>2309</th>\n",
       "      <td>young</td>\n",
       "      <td>34803404</td>\n",
       "    </tr>\n",
       "    <tr>\n",
       "      <th>2310</th>\n",
       "      <td>youth</td>\n",
       "      <td>34799901</td>\n",
       "    </tr>\n",
       "    <tr>\n",
       "      <th>2311</th>\n",
       "      <td>zebra</td>\n",
       "      <td>34764071</td>\n",
       "    </tr>\n",
       "    <tr>\n",
       "      <th>2312</th>\n",
       "      <td>zesty</td>\n",
       "      <td>34753530</td>\n",
       "    </tr>\n",
       "    <tr>\n",
       "      <th>2313</th>\n",
       "      <td>zonal</td>\n",
       "      <td>34742050</td>\n",
       "    </tr>\n",
       "  </tbody>\n",
       "</table>\n",
       "<p>2314 rows × 2 columns</p>\n",
       "</div>"
      ],
      "text/plain": [
       "      words         freq\n",
       "0     aback  23135851162\n",
       "1     abase  13151942776\n",
       "2     abate  12997637966\n",
       "3     abbey  12136980858\n",
       "4     abbot   9081174698\n",
       "...     ...          ...\n",
       "2309  young     34803404\n",
       "2310  youth     34799901\n",
       "2311  zebra     34764071\n",
       "2312  zesty     34753530\n",
       "2313  zonal     34742050\n",
       "\n",
       "[2314 rows x 2 columns]"
      ]
     },
     "execution_count": 47,
     "metadata": {},
     "output_type": "execute_result"
    }
   ],
   "source": [
    "import wordle\n",
    "import pandas as pd\n",
    "\n",
    "df = pd.read_csv('wordle_list.csv')\n",
    "df_freq = pd.read_csv('unigram_freq.csv')\n",
    "size = int(len(df))\n",
    "word_data = []\n",
    "for i in range(size):\n",
    "    w = df['words'][i]\n",
    "    if w in df_freq.values:\n",
    "        d = {'words' : w, 'freq' : df_freq.at[i, 'count']}\n",
    "        word_data.append(d)\n",
    "\n",
    "w_df = pd.DataFrame(word_data)\n",
    "w_df"
   ]
  },
  {
   "cell_type": "code",
   "execution_count": 50,
   "metadata": {},
   "outputs": [],
   "source": [
    "w_df.to_csv('window.csv')"
   ]
  },
  {
   "cell_type": "code",
   "execution_count": 59,
   "metadata": {},
   "outputs": [
    {
     "data": {
      "text/plain": [
       "'aback'"
      ]
     },
     "execution_count": 59,
     "metadata": {},
     "output_type": "execute_result"
    }
   ],
   "source": [
    "window = pd.read_csv('window.csv')\n",
    "g = window[window.freq == max(window.freq)]['words'][0]\n",
    "g"
   ]
  }
 ],
 "metadata": {
  "interpreter": {
   "hash": "d1cf79c3a82af78c318bb559bc7db921184986e2029e450681351bf77ab39e22"
  },
  "kernelspec": {
   "display_name": "Python 3.10.3 64-bit",
   "language": "python",
   "name": "python3"
  },
  "language_info": {
   "codemirror_mode": {
    "name": "ipython",
    "version": 3
   },
   "file_extension": ".py",
   "mimetype": "text/x-python",
   "name": "python",
   "nbconvert_exporter": "python",
   "pygments_lexer": "ipython3",
   "version": "3.10.3"
  },
  "orig_nbformat": 4
 },
 "nbformat": 4,
 "nbformat_minor": 2
}
